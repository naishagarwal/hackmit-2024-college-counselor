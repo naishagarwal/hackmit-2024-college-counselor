{
 "cells": [
  {
   "cell_type": "code",
   "execution_count": 1,
   "id": "2e8437f8-297b-4c8b-918c-149bd90520c1",
   "metadata": {},
   "outputs": [],
   "source": [
    "import pandas as pd\n"
   ]
  },
  {
   "cell_type": "code",
   "execution_count": 11,
   "id": "1d88117b-afd0-4c5f-83e6-667d90a7b26e",
   "metadata": {},
   "outputs": [],
   "source": [
    "data = pd.read_csv(\"chatgpt-50-diversified.csv\")"
   ]
  },
  {
   "cell_type": "code",
   "execution_count": 12,
   "id": "0021f828-1501-4479-ae17-87505ec65b22",
   "metadata": {},
   "outputs": [
    {
     "data": {
      "text/html": [
       "<div>\n",
       "<style scoped>\n",
       "    .dataframe tbody tr th:only-of-type {\n",
       "        vertical-align: middle;\n",
       "    }\n",
       "\n",
       "    .dataframe tbody tr th {\n",
       "        vertical-align: top;\n",
       "    }\n",
       "\n",
       "    .dataframe thead th {\n",
       "        text-align: right;\n",
       "    }\n",
       "</style>\n",
       "<table border=\"1\" class=\"dataframe\">\n",
       "  <thead>\n",
       "    <tr style=\"text-align: right;\">\n",
       "      <th></th>\n",
       "      <th>Name</th>\n",
       "      <th>College</th>\n",
       "      <th>Major</th>\n",
       "      <th>hs</th>\n",
       "      <th>hsl</th>\n",
       "      <th>Extra</th>\n",
       "      <th>vol</th>\n",
       "      <th>Awards</th>\n",
       "      <th>unn</th>\n",
       "    </tr>\n",
       "  </thead>\n",
       "  <tbody>\n",
       "    <tr>\n",
       "      <th>0</th>\n",
       "      <td>Aiden Brooks</td>\n",
       "      <td>MIT</td>\n",
       "      <td>Computer Science</td>\n",
       "      <td>Berkeley High School</td>\n",
       "      <td>Berkeley</td>\n",
       "      <td>CA</td>\n",
       "      <td>Robotics Club (President), Coding Club, Jazz Band</td>\n",
       "      <td>Tutored coding at local community center</td>\n",
       "      <td>USACO Gold Division, National Merit Scholar</td>\n",
       "    </tr>\n",
       "    <tr>\n",
       "      <th>1</th>\n",
       "      <td>Bella Johnson</td>\n",
       "      <td>UCLA</td>\n",
       "      <td>Biology</td>\n",
       "      <td>Beverly Hills High School</td>\n",
       "      <td>Beverly Hills</td>\n",
       "      <td>CA</td>\n",
       "      <td>Science Olympiad (Vice President), Swim Team, ...</td>\n",
       "      <td>Coastal Clean-Up Volunteer</td>\n",
       "      <td>AP Scholar with Distinction, State Science Fai...</td>\n",
       "    </tr>\n",
       "    <tr>\n",
       "      <th>2</th>\n",
       "      <td>Calvin Chen</td>\n",
       "      <td>Stanford University</td>\n",
       "      <td>Mathematics</td>\n",
       "      <td>Carmel High School</td>\n",
       "      <td>Carmel</td>\n",
       "      <td>IN</td>\n",
       "      <td>Math Club (President), Drama Club, Chess Club</td>\n",
       "      <td>Math Tutor at senior center</td>\n",
       "      <td>AMC 12 Honor Roll, USAJMO Qualifier</td>\n",
       "    </tr>\n",
       "    <tr>\n",
       "      <th>3</th>\n",
       "      <td>Daisy Anderson</td>\n",
       "      <td>Harvard University</td>\n",
       "      <td>Political Science</td>\n",
       "      <td>Cranbrook Schools</td>\n",
       "      <td>Bloomfield Hills</td>\n",
       "      <td>MI</td>\n",
       "      <td>Model UN (President), Dance Team, School Newsp...</td>\n",
       "      <td>Local Food Bank Volunteer</td>\n",
       "      <td>National Debate Tournament Finalist, AP Scholar</td>\n",
       "    </tr>\n",
       "    <tr>\n",
       "      <th>4</th>\n",
       "      <td>Evan Patel</td>\n",
       "      <td>MIT</td>\n",
       "      <td>Mathematics</td>\n",
       "      <td>Newton South High School</td>\n",
       "      <td>Newton</td>\n",
       "      <td>MA</td>\n",
       "      <td>Math Olympiad Team (Captain), Student Governme...</td>\n",
       "      <td>Volunteered at youth math camp</td>\n",
       "      <td>AMC 12 Top Scorer, Math Olympiad Silver Medalist</td>\n",
       "    </tr>\n",
       "  </tbody>\n",
       "</table>\n",
       "</div>"
      ],
      "text/plain": [
       "             Name              College              Major  \\\n",
       "0    Aiden Brooks                  MIT   Computer Science   \n",
       "1   Bella Johnson                 UCLA            Biology   \n",
       "2     Calvin Chen  Stanford University        Mathematics   \n",
       "3  Daisy Anderson   Harvard University  Political Science   \n",
       "4      Evan Patel                  MIT        Mathematics   \n",
       "\n",
       "                          hs               hsl Extra  \\\n",
       "0       Berkeley High School          Berkeley    CA   \n",
       "1  Beverly Hills High School     Beverly Hills    CA   \n",
       "2         Carmel High School            Carmel    IN   \n",
       "3          Cranbrook Schools  Bloomfield Hills    MI   \n",
       "4   Newton South High School            Newton    MA   \n",
       "\n",
       "                                                 vol  \\\n",
       "0  Robotics Club (President), Coding Club, Jazz Band   \n",
       "1  Science Olympiad (Vice President), Swim Team, ...   \n",
       "2      Math Club (President), Drama Club, Chess Club   \n",
       "3  Model UN (President), Dance Team, School Newsp...   \n",
       "4  Math Olympiad Team (Captain), Student Governme...   \n",
       "\n",
       "                                     Awards  \\\n",
       "0  Tutored coding at local community center   \n",
       "1                Coastal Clean-Up Volunteer   \n",
       "2               Math Tutor at senior center   \n",
       "3                 Local Food Bank Volunteer   \n",
       "4            Volunteered at youth math camp   \n",
       "\n",
       "                                                 unn  \n",
       "0        USACO Gold Division, National Merit Scholar  \n",
       "1  AP Scholar with Distinction, State Science Fai...  \n",
       "2                AMC 12 Honor Roll, USAJMO Qualifier  \n",
       "3    National Debate Tournament Finalist, AP Scholar  \n",
       "4   AMC 12 Top Scorer, Math Olympiad Silver Medalist  "
      ]
     },
     "execution_count": 12,
     "metadata": {},
     "output_type": "execute_result"
    }
   ],
   "source": [
    "data.head()\n"
   ]
  },
  {
   "cell_type": "code",
   "execution_count": 4,
   "id": "1532315b-aff7-43c8-8b52-c0ced7113666",
   "metadata": {},
   "outputs": [
    {
     "name": "stdout",
     "output_type": "stream",
     "text": [
      "Processing ./intersystems_irispython-3.2.0-py3-none-any.whl\n",
      "intersystems-irispython is already installed with the same version as the provided wheel. Use --force-reinstall to force an installation of the wheel.\n"
     ]
    }
   ],
   "source": [
    "!pip install intersystems_irispython-3.2.0-py3-none-any.whl\n",
    "import iris\n",
    "import time\n",
    "import os"
   ]
  },
  {
   "cell_type": "code",
   "execution_count": 5,
   "id": "2d9c6cd1-f7c5-4f57-bb2b-35317ce38e81",
   "metadata": {},
   "outputs": [],
   "source": [
    "namespace=\"USER\"\n",
    "port = 1972\n",
    "hostname = os.getenv('IRIS_HOSTNAME', 'localhost')\n",
    "connection_string = f\"{hostname}:{port}/{namespace}\"\n",
    "username = \"demo\"\n",
    "password = \"demo\""
   ]
  },
  {
   "cell_type": "code",
   "execution_count": 6,
   "id": "f64f3b19-1040-4efc-b013-6ca03a3a2e3a",
   "metadata": {},
   "outputs": [],
   "source": [
    "# Note: Ideally conn and cursor should be used with context manager or with try-execpt-finally \n",
    "conn = iris.connect(connection_string, username, password)\n",
    "cursor = conn.cursor()"
   ]
  },
  {
   "cell_type": "code",
   "execution_count": 16,
   "id": "f85cb2d5-1cd0-4338-8b1a-cac9023c4da6",
   "metadata": {},
   "outputs": [],
   "source": [
    "tableName = \"Test.Upload\"\n",
    "tableDefinition = \"(Name VARCHAR(255), College VARCHAR(255), Major VARCHAR(255), HSL VARCHAR(255), EXTRAC VARCHAR(255), Volun VARCHAR(255), Awards VARCHAR(255), unn VARCHAR(255))\""
   ]
  },
  {
   "cell_type": "code",
   "execution_count": 17,
   "id": "9a35dc06-9d69-4db9-bcd3-a74fc4ef9067",
   "metadata": {},
   "outputs": [
    {
     "data": {
      "text/plain": [
       "0"
      ]
     },
     "execution_count": 17,
     "metadata": {},
     "output_type": "execute_result"
    }
   ],
   "source": [
    "try:\n",
    "    cursor.execute(f\"DROP TABLE {tableName}\")  \n",
    "except:\n",
    "    pass\n",
    "cursor.execute(f\"CREATE TABLE {tableName} {tableDefinition}\")"
   ]
  },
  {
   "cell_type": "code",
   "execution_count": 19,
   "id": "2c3793ea-6b5b-4add-9fa1-1adf5d6f2daa",
   "metadata": {},
   "outputs": [
    {
     "name": "stdout",
     "output_type": "stream",
     "text": [
      "time taken to add 31 entries: 0.022324085235595703 seconds\n"
     ]
    }
   ],
   "source": [
    "##looping through dataframe and adding all the data to IRIS table\n",
    "sql = \"Insert into Test.Upload (Name, College,Major,HSL,EXTRAC,Volun, Awards,unn) values (?, ?, ?,?,?,?,?,?)\"\n",
    "start_time = time.time()\n",
    "for index,row in data.iterrows():\n",
    "    cursor.execute(sql, [row.Name,row.College,row.Major,row.hs, row.Extra, row.vol, row.Awards, row.unn])\n",
    "end_time = time.time()\n",
    "print(f\"time taken to add {len(data)} entries: {end_time-start_time} seconds\")"
   ]
  },
  {
   "cell_type": "code",
   "execution_count": null,
   "id": "5ee4d8e1-4c36-4a84-b025-a6ab5aabead4",
   "metadata": {},
   "outputs": [],
   "source": []
  }
 ],
 "metadata": {
  "kernelspec": {
   "display_name": "Python 3 (ipykernel)",
   "language": "python",
   "name": "python3"
  },
  "language_info": {
   "codemirror_mode": {
    "name": "ipython",
    "version": 3
   },
   "file_extension": ".py",
   "mimetype": "text/x-python",
   "name": "python",
   "nbconvert_exporter": "python",
   "pygments_lexer": "ipython3",
   "version": "3.11.7"
  }
 },
 "nbformat": 4,
 "nbformat_minor": 5
}
